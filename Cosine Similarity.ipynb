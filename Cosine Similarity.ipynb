{
 "cells": [
  {
   "cell_type": "code",
   "execution_count": 3,
   "metadata": {},
   "outputs": [],
   "source": [
    "from nltk.corpus import stopwords\n",
    "from nltk.tokenize import word_tokenize\n",
    "import numpy as np\n",
    "import nltk\n",
    "\n",
    "def process(file):\n",
    "    raw = open(file).read()\n",
    "    tokens = word_tokenize(raw)\n",
    "    words = [w.lower() for w in tokens]\n",
    "    \n",
    "    porter = nltk.PorterStemmer()\n",
    "    stemmed_tokens = [porter.stem(t) for t in words]\n",
    "    \n",
    "    #Removing stop words\n",
    "    \n",
    "    stop_words = set(stopwords.words('english'))\n",
    "    filtered_tokens = [w for w in stemmed_tokens if not w in stop_words]\n",
    "    \n",
    "    #count words\n",
    "    count = nltk.defaultdict(int)\n",
    "    for word in filtered_tokens:\n",
    "        count[word] += 1\n",
    "    return count;"
   ]
  },
  {
   "cell_type": "code",
   "execution_count": 4,
   "metadata": {},
   "outputs": [
    {
     "name": "stdout",
     "output_type": "stream",
     "text": [
      "Similarity between dict1 and dict2 are:-  0.560792437157062\n",
      "Similarity between dict2 and dict3 are:-  0.3834901818718183\n",
      "Similarity between dict1 and dict3 are:-  0.37670332596841066\n",
      "Similarity between dict1 and dict4 are:-  0.39340258013766705\n",
      "Similarity between dict1 and dict5 are:-  0.3529876834173005\n",
      "Similarity between dict2 and dict4 are:-  0.4353495713704622\n",
      "Similarity between dict2 and dict5 are:-  0.37066634411773475\n",
      "Similarity between dict3 and dict4 are:-  0.32833943395076165\n",
      "Similarity between dict2 and dict2 are:-  1.0\n",
      "Similarity between dict2 and dict2 are:-  1.0000000000000002\n"
     ]
    }
   ],
   "source": [
    "def cosine_similarity(a,b):\n",
    "    dot_product = np.dot(a,b)\n",
    "    norm_a = np.linalg.norm(a)\n",
    "    norm_b = np.linalg.norm(b)\n",
    "    return dot_product / (norm_a * norm_b)\n",
    "\n",
    "def getSimiliarity(dict1,dict2):\n",
    "    diction= []\n",
    "    for key in dict1:\n",
    "        diction.append(key)\n",
    "    for key in dict2:\n",
    "        diction.append(key)\n",
    "    dictionary = len(diction)\n",
    "    \n",
    "    a1 = np.zeros(dictionary, dtype=np.int)\n",
    "    a2 = np.zeros(dictionary, dtype=np.int)\n",
    "    i=0\n",
    "    for (key) in diction:\n",
    "        a1[i] = dict1.get(key, 0)\n",
    "        a2[i] = dict2.get(key, 0)\n",
    "        i = i+1\n",
    "    return cosine_similarity(a1, a2);\n",
    "\n",
    "if __name__ == '__main__':\n",
    "    dict1 = process(\"C:\\\\Python37\\\\Scripts\\\\BigDataProject\\\\Cleaned\\\\a94amj.txt\")\n",
    "    dict2 = process(\"C:\\\\Python37\\\\Scripts\\\\BigDataProject\\\\Cleaned\\\\adg08hrm.txt\")\n",
    "    dict3 = process(\"C:\\\\Python37\\\\Scripts\\\\BigDataProject\\\\Cleaned\\\\lcy12ijebm.txt\")\n",
    "    dict4 = process(\"C:\\\\Python37\\\\Scripts\\\\BigDataProject\\\\Cleaned\\\\ces06ee.txt\")\n",
    "    dict5 = process(\"C:\\\\Python37\\\\Scripts\\\\BigDataProject\\\\Cleaned\\\\rffa98jom.txt\")\n",
    "    dict6 = process(\"C:\\\\Python37\\\\Scripts\\\\BigDataProject\\\\Cleaned\\\\untitled.txt\")\n",
    "    dict7 = process(\"C:\\\\Python37\\\\Scripts\\\\BigDataProject\\\\Cleaned\\\\untitled1.txt\")\n",
    "    print(\"Similarity between dict1 and dict2 are:- \", getSimiliarity(dict1, dict2))\n",
    "    print(\"Similarity between dict2 and dict3 are:- \", getSimiliarity(dict3, dict2))\n",
    "    print(\"Similarity between dict1 and dict3 are:- \", getSimiliarity(dict1, dict3))\n",
    "    print(\"Similarity between dict1 and dict4 are:- \", getSimiliarity(dict1, dict4))\n",
    "    print(\"Similarity between dict1 and dict5 are:- \", getSimiliarity(dict1, dict5))\n",
    "    print(\"Similarity between dict2 and dict4 are:- \", getSimiliarity(dict2, dict4))\n",
    "    print(\"Similarity between dict2 and dict5 are:- \", getSimiliarity(dict2, dict5))\n",
    "    print(\"Similarity between dict3 and dict4 are:- \", getSimiliarity(dict3, dict4))\n",
    "    print(\"Similarity between dict2 and dict2 are:- \", getSimiliarity(dict2, dict2))\n",
    "    print(\"Similarity between dict2 and dict2 are:- \", getSimiliarity(dict6, dict7))"
   ]
  },
  {
   "cell_type": "code",
   "execution_count": null,
   "metadata": {},
   "outputs": [],
   "source": []
  }
 ],
 "metadata": {
  "kernelspec": {
   "display_name": "Python 3",
   "language": "python",
   "name": "python3"
  },
  "language_info": {
   "codemirror_mode": {
    "name": "ipython",
    "version": 3
   },
   "file_extension": ".py",
   "mimetype": "text/x-python",
   "name": "python",
   "nbconvert_exporter": "python",
   "pygments_lexer": "ipython3",
   "version": "3.7.0"
  }
 },
 "nbformat": 4,
 "nbformat_minor": 2
}
